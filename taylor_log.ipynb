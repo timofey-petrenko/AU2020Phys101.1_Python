{
 "cells": [
  {
   "cell_type": "code",
   "execution_count": 6,
   "metadata": {},
   "outputs": [
    {
     "name": "stdout",
     "output_type": "stream",
     "text": [
      "Help on built-in function log in module math:\n",
      "\n",
      "log(...)\n",
      "    log(x, [base=math.e])\n",
      "    Return the logarithm of x to the given base.\n",
      "    \n",
      "    If the base not specified, returns the natural logarithm (base e) of x.\n",
      "\n",
      "Help on function my_log in module __main__:\n",
      "\n",
      "my_log(x)\n",
      "    Вычисление натурального логарифма при помощи частичного суммирования\n",
      "    ряда Тейлора для окрестности 0\n",
      "\n",
      "-0.6931471805599453\n",
      "-0.6931471805599451\n"
     ]
    }
   ],
   "source": [
    "import math\n",
    "\n",
    "ITERATIONS = 10000\n",
    "\n",
    "def my_log(x):\n",
    "    \"\"\"\n",
    "    Вычисление натурального логарифма при помощи частичного суммирования\n",
    "    ряда Тейлора для окрестности 0\n",
    "    \"\"\"\n",
    "    partial_sum = 0\n",
    "    for n in range(1, ITERATIONS):\n",
    "        x_pow = (x - 1) ** n  # В цикле постепенно считаем степень\n",
    "        multiplier = (-1) ** (n+1) / n  # (-1)^(n+1) и натуральное число в знаменателе\n",
    "        partial_sum += x_pow * multiplier\n",
    "    \n",
    "    return partial_sum\n",
    "\n",
    "help(math.log)\n",
    "help(my_log)\n",
    "\n",
    "print(math.log(0.5))\n",
    "print(my_log(0.5))"
   ]
  },
  {
   "cell_type": "code",
   "execution_count": 10,
   "metadata": {},
   "outputs": [
    {
     "data": {
      "image/png": "[encoded data removed]",
      "text/plain": [
       "<Figure size 432x288 with 1 Axes>"
      ]
     },
     "metadata": {
      "needs_background": "light"
     },
     "output_type": "display_data"
    }
   ],
   "source": [
    "%matplotlib inline\n",
    "\n",
    "\n",
    "import matplotlib.pyplot as plt\n",
    "import numpy as np\n",
    "\n",
    "X = np.linspace(0.001, 2.050, 1000)\n",
    "plt.plot(X, np.log(X))\n",
    "plt.plot(X, my_log(X))\n",
    "plt.show()"
   ]
  },
  {
   "cell_type": "code",
   "execution_count": null,
   "metadata": {},
   "outputs": [],
   "source": []
  }
 ],
 "metadata": {
  "kernelspec": {
   "display_name": "Python 3",
   "language": "python",
   "name": "python3"
  },
  "language_info": {
   "codemirror_mode": {
    "name": "ipython",
    "version": 3
   },
   "file_extension": ".py",
   "mimetype": "text/x-python",
   "name": "python",
   "nbconvert_exporter": "python",
   "pygments_lexer": "ipython3",
   "version": "3.8.3"
  }
 },
 "nbformat": 4,
 "nbformat_minor": 4
}

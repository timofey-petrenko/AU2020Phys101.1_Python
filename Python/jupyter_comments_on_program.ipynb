{
 "cells": [
  {
   "cell_type": "code",
   "execution_count": null,
   "metadata": {},
   "outputs": [],
   "source": [
    "#!/usr/bin/env python3  # указываем интерпретатор\n",
    "# -*- coding: utf-8 -*-  # используем восьмибитный Юникод\n",
    "\n",
    "import math  # импортируем математику\n",
    "import numpy  # импортируем библиотеку numpy (массивы и пр.)\n",
    "import matplotlib.pyplot as mpp  # импортируем pyplot из библиотеки matplotlib для построения графиков и будем сокращенно называть его mpp\n",
    "\n",
    "# Эта программа рисует график функции, заданной выражением ниже\n",
    "\n",
    "if __name__=='__main__':  # проверяем, что программа запущена, а не подключена, как библиотека\n",
    "    arguments = numpy.arange(0, 200, 0.1)  # приравниваем переменной arguments (можно представить, что наклееваем стикер) массив элементов от 0 до 200\n",
    "    # отступ между элементами массива 0.1, левый конец включаем, правый - нет.\n",
    "    mpp.plot(  \n",
    "        arguments,\n",
    "        [math.sin(a) * math.sin(a/20.0) for a in arguments]\n",
    "    )  # функция в mpp, принимающая arguments (для X-оси) и соответсвующие им значения из списка, определенного посредством list comprehension (для Y-оси)\n",
    "    mpp.show()  # показываем наш график"
   ]
  }
 ],
 "metadata": {
  "kernelspec": {
   "display_name": "Python 3",
   "language": "python",
   "name": "python3"
  },
  "language_info": {
   "codemirror_mode": {
    "name": "ipython",
    "version": 3
   },
   "file_extension": ".py",
   "mimetype": "text/x-python",
   "name": "python",
   "nbconvert_exporter": "python",
   "pygments_lexer": "ipython3",
   "version": "3.8.3"
  }
 },
 "nbformat": 4,
 "nbformat_minor": 4
}
